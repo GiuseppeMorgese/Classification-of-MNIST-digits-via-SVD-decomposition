{
 "cells": [
  {
   "cell_type": "markdown",
   "id": "0376976b",
   "metadata": {},
   "source": [
    "# Classification of MNIST digits via SVD decomposition\n",
    "\n",
    "In this homework Singular Value Decomposition is used to classificate MNIST digits.\n",
    "This dataset, which is loaded in the form of a 256 × 1707 matrix, contains the flattened version of 1707 16 × 16 grayscale handwritten digits between 0 and 9.\n",
    "\n",
    "A binary classification problem was considered, where it was required to classificate if a given digit of dimension m x n represents the number 3 or the number 4 whose class is C1 and C2 respectively.\n",
    "\n",
    "After that, a multiclass model is presented following the same steps of the binary classifier."
   ]
  },
  {
   "cell_type": "code",
   "execution_count": 1,
   "id": "1c0f285b",
   "metadata": {},
   "outputs": [],
   "source": [
    "import numpy as np\n",
    "import scipy.io\n",
    "import matplotlib.pyplot as plt\n",
    "import pandas as pd\n",
    "import math"
   ]
  },
  {
   "cell_type": "markdown",
   "id": "3fb3cc3c",
   "metadata": {},
   "source": [
    "## Binary classification"
   ]
  },
  {
   "cell_type": "code",
   "execution_count": 5,
   "id": "2eef28f0",
   "metadata": {},
   "outputs": [
    {
     "name": "stdout",
     "output_type": "stream",
     "text": [
      "Predicted class: 3    | Real class: 3\n",
      "d1: 4.546310176573883 | d2: 5.29555849782949\n",
      "\n",
      "Predicted class: 3    | Real class: 3\n",
      "d1: 4.498166141515304 | d2: 5.9103819491540275\n",
      "\n",
      "Predicted class: 4    | Real class: 4\n",
      "d1: 4.91829144354546 | d2: 4.2377889657223715\n",
      "\n",
      "Predicted class: 4    | Real class: 4\n",
      "d1: 6.8196115536142 | d2: 4.686620786595576\n",
      "\n",
      "Predicted class: 3    | Real class: 3\n",
      "d1: 3.9502415854706205 | d2: 5.449357612903926\n",
      "\n",
      "accuracy:    98.0392156862745 %\n"
     ]
    }
   ],
   "source": [
    "DATA = scipy.io.loadmat('./data/MNIST.mat')\n",
    "\n",
    "# data-labels split\n",
    "X = DATA['X'] \n",
    "I = DATA['I']\n",
    "\n",
    "# data shuffling\n",
    "data = np.concatenate([X,I],0).T\n",
    "np.random.shuffle(data)             \n",
    "\n",
    "X = data.T[:-1]\n",
    "I = data.T[-1]\n",
    "\n",
    "digits = [3, 4]  # digits we want to classify\n",
    "\n",
    "idx = np.zeros(I.shape, dtype=bool)\n",
    "\n",
    "for d in digits:\n",
    "    idx+=I==d \n",
    "\n",
    "X = X[:, idx]\n",
    "I = I[idx]\n",
    "\n",
    "train_percentage = 0.80\n",
    "\n",
    "n = int(X.shape[1]*train_percentage) # number of training samples\n",
    "\n",
    "# train-test split\n",
    "X_train = X[:,:n]\n",
    "X_test = X[:,n:]\n",
    "\n",
    "I_train = I[:n]\n",
    "I_test = I[n:]\n",
    "\n",
    "# class-based split of training set\n",
    "X1 = X_train[:, np.squeeze(I_train==digits[0])]\n",
    "X2 = X_train[:, np.squeeze(I_train==digits[1])]\n",
    "\n",
    "# SVD decomposition of X1 and X2\n",
    "U1, S1, VT1 = np.linalg.svd(X1, full_matrices=False)\n",
    "U2, S2, VT2 = np.linalg.svd(X2, full_matrices=False)\n",
    "\n",
    "for i in range(5):\n",
    "    i = np.random.randint(X_test.shape[1])\n",
    "\n",
    "    y = X_test[:,i]           # random unknown digit  \n",
    "    y = np.expand_dims(y,1)\n",
    "\n",
    "    u1 = np.expand_dims(U1[:,0],1)\n",
    "    u2 = np.expand_dims(U2[:,0],1)\n",
    "\n",
    "    y_p1 = u1 @ u1.T @ y     # projection of y in the space of X1\n",
    "    y_p2 = u2 @ u2.T @ y     # projection of y in the space of X2\n",
    "\n",
    "    d1 = np.linalg.norm((y-y_p1), 2)\n",
    "    d2 = np.linalg.norm((y-y_p2), 2)\n",
    "\n",
    "    if d1 < d2:\n",
    "        print(f\"Predicted class: 3    | Real class: {int(I_test[i])}\")\n",
    "    else:\n",
    "        print(f\"Predicted class: 4    | Real class: {int(I_test[i])}\")\n",
    "    \n",
    "    print(f\"d1: {d1} | d2: {d2}\")\n",
    "    print()\n",
    "\n",
    "# accuracy\n",
    "l = X_test.shape[1]\n",
    "U = np.concatenate([np.expand_dims(u1,0),np.expand_dims(u2,0)],0)\n",
    "\n",
    "projections = U @ np.transpose(U, axes=[0,2,1]) @ X_test\n",
    "distances = np.linalg.norm(projections - np.expand_dims(X_test,0), axis=1)\n",
    "classification = np.argmin(distances,0)\n",
    "predictions = np.choose(classification,digits)\n",
    "\n",
    "accuracy = sum((predictions==I_test))/l\n",
    "\n",
    "print(f\"accuracy:    {accuracy*100} %\")"
   ]
  },
  {
   "cell_type": "markdown",
   "id": "126213ed",
   "metadata": {},
   "source": [
    "## Multiclass classification"
   ]
  },
  {
   "cell_type": "code",
   "execution_count": 7,
   "id": "403bec8b",
   "metadata": {},
   "outputs": [
    {
     "data": {
      "image/png": "[encoded data removed]",
      "text/plain": [
       "<Figure size 576x432 with 1 Axes>"
      ]
     },
     "metadata": {
      "needs_background": "light"
     },
     "output_type": "display_data"
    }
   ],
   "source": [
    "X = DATA['X']\n",
    "I = DATA['I']\n",
    "\n",
    "C = pd.Categorical(np.squeeze(I)).categories      # categories extraction\n",
    "\n",
    "X_divided = {}\n",
    "\n",
    "\n",
    "for c in C:\n",
    "    X_divided[c]=X[ :, np.reshape(I==c,-1) ]\n",
    "\n",
    "percentages_tot = [95,90,80,60,40,20,10,5,2,1,0.5,0.2]\n",
    "\n",
    "accuracies_tot = np.empty((len(percentages_tot)))\n",
    "\n",
    "X_v = np.empty((len(percentages_tot),len(C),X.shape[0]))     # principal sigular vectors matrix\n",
    "\n",
    "for n_p, p in enumerate(percentages_tot):\n",
    "    n = np.empty((len(C),),dtype=np.int64)    # number of training samples vector\n",
    "    \n",
    "    # singular vectors computation\n",
    "    for c in C:\n",
    "        \n",
    "        # data shuffling\n",
    "        X_divided[c] = X_divided[c].T\n",
    "        np.random.shuffle(X_divided[c])\n",
    "        X_divided[c] = X_divided[c].T\n",
    "\n",
    "        n[c] = math.ceil(X_divided[c].shape[1]*p*0.01)    # size of the train set\n",
    "        X_train = X_divided[c][:,:n[c]]\n",
    "\n",
    "        U,S,V = np.linalg.svd(X_train, full_matrices=False)   # SVD\n",
    "\n",
    "        X_v[n_p][c] = U[:,0]       # principal left singular vector\n",
    "    \n",
    "    Xv=np.expand_dims(X_v[n_p],2)\n",
    "    \n",
    "    # projections of the test sets on all the subspaces computations\n",
    "    for c in C:\n",
    "        X_test = X_divided[c][:,n[c]:]\n",
    "        l = X_test.shape[1]\n",
    "        \n",
    "        projections = Xv @ np.transpose(Xv, axes=[0,2,1]) @ X_test\n",
    "        \n",
    "        distances = np.linalg.norm(projections - np.expand_dims(X_test,0), axis=1)\n",
    "\n",
    "        classification = np.argmin(distances,0)\n",
    "\n",
    "        for i in range(len(C)):\n",
    "            tot = sum(classification==i)\n",
    "            \n",
    "            if i==c:\n",
    "                accuracies_tot[n_p] = tot/l\n",
    "\n",
    "plt.figure(figsize=(8, 6 ))\n",
    "plt.title('Average accuracy at different training sizes')\n",
    "plt.plot(percentages_tot,accuracies_tot)\n",
    "plt.xlabel('training size [%]')\n",
    "plt.gca().invert_xaxis()"
   ]
  }
 ],
 "metadata": {
  "kernelspec": {
   "display_name": "Python 3 (ipykernel)",
   "language": "python",
   "name": "python3"
  },
  "language_info": {
   "codemirror_mode": {
    "name": "ipython",
    "version": 3
   },
   "file_extension": ".py",
   "mimetype": "text/x-python",
   "name": "python",
   "nbconvert_exporter": "python",
   "pygments_lexer": "ipython3",
   "version": "3.9.7"
  }
 },
 "nbformat": 4,
 "nbformat_minor": 5
}
